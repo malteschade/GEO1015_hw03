{
 "cells": [
  {
   "cell_type": "code",
   "execution_count": 470,
   "metadata": {},
   "outputs": [
    {
     "name": "stderr",
     "output_type": "stream",
     "text": [
      "100%|██████████| 10000/10000 [00:00<00:00, 10379.61it/s]\n",
      "100%|██████████| 10000/10000 [00:01<00:00, 8447.47it/s]\n"
     ]
    },
    {
     "name": "stdout",
     "output_type": "stream",
     "text": [
      "N-Groundtrouth: 10000, N-Interpolated: 1000\n",
      "Interpolation method: linear\n",
      "Sill: 31000, Rang: 74000, Nugget: 400\n",
      "\n",
      "Simple Kriging NN=4 NR=None R2: 0.9189527019610035\n",
      "Ordinary Kriging NN=4 NR=None R2: 0.9316616466496838\n",
      "IDW Power 3 R2: 0.9345264513747584\n",
      "\n",
      "Simple Kriging NN=4 NR=None RMSE: 37.282406868132966\n",
      "Ordinary Kriging NN=4 NR=None RMSE: 34.23473151172276\n",
      "IDW Power 3 RMSE: 33.50947403834284\n"
     ]
    },
    {
     "data": {
      "application/vnd.plotly.v1+json": {
       "config": {
        "plotlyServerURL": "https://plotly.com"
       },
       "data": [
        {
         "marker": {
          "color": [
           1660,
           4848,
           7338,
           10050,
           12778,
           15400,
           17762,
           19556,
           21236,
           22826,
           24626,
           25980,
           26954,
           27948,
           28554,
           29336,
           30046,
           30174,
           30916,
           31264,
           32088,
           30808,
           30868,
           30620,
           30072,
           29240,
           28454,
           26800,
           26804,
           25422,
           24262,
           23476,
           21738,
           20018,
           18460,
           16908,
           16224,
           14744,
           13804,
           13132,
           12164,
           11460,
           10886,
           9832,
           9560,
           8374,
           7446,
           6604,
           5822,
           5030,
           4462,
           3850,
           3058,
           2354,
           1786,
           1150,
           788,
           492,
           286,
           186,
           116,
           56,
           32
          ],
          "colorbar": {
           "title": {
            "text": "n [-]"
           }
          },
          "colorscale": [
           [
            0,
            "#440154"
           ],
           [
            0.1111111111111111,
            "#482878"
           ],
           [
            0.2222222222222222,
            "#3e4989"
           ],
           [
            0.3333333333333333,
            "#31688e"
           ],
           [
            0.4444444444444444,
            "#26828e"
           ],
           [
            0.5555555555555556,
            "#1f9e89"
           ],
           [
            0.6666666666666666,
            "#35b779"
           ],
           [
            0.7777777777777778,
            "#6ece58"
           ],
           [
            0.8888888888888888,
            "#b5de2b"
           ],
           [
            1,
            "#fde725"
           ]
          ],
          "size": 6
         },
         "mode": "markers",
         "type": "scatter",
         "x": [
          2005.0449813561495,
          4010.089962712299,
          6015.134944068448,
          8020.179925424598,
          10025.224906780748,
          12030.269888136898,
          14035.314869493046,
          16040.359850849196,
          18045.404832205346,
          20050.449813561496,
          22055.494794917646,
          24060.539776273796,
          26065.584757629942,
          28070.629738986092,
          30075.674720342242,
          32080.719701698392,
          34085.76468305454,
          36090.80966441069,
          38095.85464576684,
          40100.89962712299,
          42105.94460847914,
          44110.98958983529,
          46116.03457119144,
          48121.07955254759,
          50126.124533903734,
          52131.169515259884,
          54136.214496616034,
          56141.259477972184,
          58146.304459328334,
          60151.349440684484,
          62156.394422040634,
          64161.439403396784,
          66166.48438475293,
          68171.52936610907,
          70176.57434746523,
          72181.61932882137,
          74186.66431017753,
          76191.70929153367,
          78196.75427288983,
          80201.79925424597,
          82206.84423560213,
          84211.88921695827,
          86216.93419831443,
          88221.97917967057,
          90227.02416102673,
          92232.06914238287,
          94237.11412373903,
          96242.15910509517,
          98247.20408645131,
          100252.24906780747,
          102257.29404916361,
          104262.33903051977,
          106267.38401187591,
          108272.42899323207,
          110277.47397458821,
          112282.51895594437,
          114287.56393730051,
          116292.60891865667,
          118297.65390001281,
          120302.69888136897,
          122307.74386272511,
          124312.78884408127,
          126317.83382543741
         ],
         "y": [
          822.529626697992,
          1205.6343504576414,
          1661.2150471127338,
          2070.8808362929103,
          2315.588487729158,
          2577.8829879133837,
          2981.550033962835,
          3281.333499790537,
          3718.1359941500796,
          4046.1842191912515,
          4556.669859184101,
          5118.509365060425,
          5720.497851403496,
          6412.168276494953,
          7407.387214305979,
          8020.789346805866,
          8772.176496468606,
          9792.95416260052,
          10232.123145910535,
          11302.358362028088,
          12164.233374558653,
          13542.197875873822,
          14678.18392229619,
          15248.605271567612,
          16446.399524204386,
          17428.58006276249,
          18846.32259140862,
          19900.998169835682,
          20989.475502758396,
          21763.315339880763,
          22805.413640535346,
          24164.66497388687,
          24980.105410449112,
          27159.428715992897,
          28665.3690556346,
          29070.62571769647,
          30952.840435073333,
          31147.740631569624,
          31578.79978586406,
          31622.293246059675,
          31705.46347685006,
          32704.47660694257,
          32921.894206565754,
          32826.05998338476,
          32273.14179975763,
          33313.15990308804,
          32086.95362405491,
          31517.344593412217,
          30735.726539812447,
          30206.279948322663,
          29448.27746671786,
          29451.221242794192,
          28684.770239939782,
          27579.604970393077,
          28635.380289224955,
          25562.97651840494,
          27844.11009595254,
          28156.320451213633,
          29647.395007562314,
          32995.63475816173,
          39006.00758700538,
          38124.68260547173,
          37298.66680470707
         ]
        }
       ],
       "layout": {
        "template": {
         "data": {
          "bar": [
           {
            "error_x": {
             "color": "#2a3f5f"
            },
            "error_y": {
             "color": "#2a3f5f"
            },
            "marker": {
             "line": {
              "color": "#E5ECF6",
              "width": 0.5
             },
             "pattern": {
              "fillmode": "overlay",
              "size": 10,
              "solidity": 0.2
             }
            },
            "type": "bar"
           }
          ],
          "barpolar": [
           {
            "marker": {
             "line": {
              "color": "#E5ECF6",
              "width": 0.5
             },
             "pattern": {
              "fillmode": "overlay",
              "size": 10,
              "solidity": 0.2
             }
            },
            "type": "barpolar"
           }
          ],
          "carpet": [
           {
            "aaxis": {
             "endlinecolor": "#2a3f5f",
             "gridcolor": "white",
             "linecolor": "white",
             "minorgridcolor": "white",
             "startlinecolor": "#2a3f5f"
            },
            "baxis": {
             "endlinecolor": "#2a3f5f",
             "gridcolor": "white",
             "linecolor": "white",
             "minorgridcolor": "white",
             "startlinecolor": "#2a3f5f"
            },
            "type": "carpet"
           }
          ],
          "choropleth": [
           {
            "colorbar": {
             "outlinewidth": 0,
             "ticks": ""
            },
            "type": "choropleth"
           }
          ],
          "contour": [
           {
            "colorbar": {
             "outlinewidth": 0,
             "ticks": ""
            },
            "colorscale": [
             [
              0,
              "#0d0887"
             ],
             [
              0.1111111111111111,
              "#46039f"
             ],
             [
              0.2222222222222222,
              "#7201a8"
             ],
             [
              0.3333333333333333,
              "#9c179e"
             ],
             [
              0.4444444444444444,
              "#bd3786"
             ],
             [
              0.5555555555555556,
              "#d8576b"
             ],
             [
              0.6666666666666666,
              "#ed7953"
             ],
             [
              0.7777777777777778,
              "#fb9f3a"
             ],
             [
              0.8888888888888888,
              "#fdca26"
             ],
             [
              1,
              "#f0f921"
             ]
            ],
            "type": "contour"
           }
          ],
          "contourcarpet": [
           {
            "colorbar": {
             "outlinewidth": 0,
             "ticks": ""
            },
            "type": "contourcarpet"
           }
          ],
          "heatmap": [
           {
            "colorbar": {
             "outlinewidth": 0,
             "ticks": ""
            },
            "colorscale": [
             [
              0,
              "#0d0887"
             ],
             [
              0.1111111111111111,
              "#46039f"
             ],
             [
              0.2222222222222222,
              "#7201a8"
             ],
             [
              0.3333333333333333,
              "#9c179e"
             ],
             [
              0.4444444444444444,
              "#bd3786"
             ],
             [
              0.5555555555555556,
              "#d8576b"
             ],
             [
              0.6666666666666666,
              "#ed7953"
             ],
             [
              0.7777777777777778,
              "#fb9f3a"
             ],
             [
              0.8888888888888888,
              "#fdca26"
             ],
             [
              1,
              "#f0f921"
             ]
            ],
            "type": "heatmap"
           }
          ],
          "heatmapgl": [
           {
            "colorbar": {
             "outlinewidth": 0,
             "ticks": ""
            },
            "colorscale": [
             [
              0,
              "#0d0887"
             ],
             [
              0.1111111111111111,
              "#46039f"
             ],
             [
              0.2222222222222222,
              "#7201a8"
             ],
             [
              0.3333333333333333,
              "#9c179e"
             ],
             [
              0.4444444444444444,
              "#bd3786"
             ],
             [
              0.5555555555555556,
              "#d8576b"
             ],
             [
              0.6666666666666666,
              "#ed7953"
             ],
             [
              0.7777777777777778,
              "#fb9f3a"
             ],
             [
              0.8888888888888888,
              "#fdca26"
             ],
             [
              1,
              "#f0f921"
             ]
            ],
            "type": "heatmapgl"
           }
          ],
          "histogram": [
           {
            "marker": {
             "pattern": {
              "fillmode": "overlay",
              "size": 10,
              "solidity": 0.2
             }
            },
            "type": "histogram"
           }
          ],
          "histogram2d": [
           {
            "colorbar": {
             "outlinewidth": 0,
             "ticks": ""
            },
            "colorscale": [
             [
              0,
              "#0d0887"
             ],
             [
              0.1111111111111111,
              "#46039f"
             ],
             [
              0.2222222222222222,
              "#7201a8"
             ],
             [
              0.3333333333333333,
              "#9c179e"
             ],
             [
              0.4444444444444444,
              "#bd3786"
             ],
             [
              0.5555555555555556,
              "#d8576b"
             ],
             [
              0.6666666666666666,
              "#ed7953"
             ],
             [
              0.7777777777777778,
              "#fb9f3a"
             ],
             [
              0.8888888888888888,
              "#fdca26"
             ],
             [
              1,
              "#f0f921"
             ]
            ],
            "type": "histogram2d"
           }
          ],
          "histogram2dcontour": [
           {
            "colorbar": {
             "outlinewidth": 0,
             "ticks": ""
            },
            "colorscale": [
             [
              0,
              "#0d0887"
             ],
             [
              0.1111111111111111,
              "#46039f"
             ],
             [
              0.2222222222222222,
              "#7201a8"
             ],
             [
              0.3333333333333333,
              "#9c179e"
             ],
             [
              0.4444444444444444,
              "#bd3786"
             ],
             [
              0.5555555555555556,
              "#d8576b"
             ],
             [
              0.6666666666666666,
              "#ed7953"
             ],
             [
              0.7777777777777778,
              "#fb9f3a"
             ],
             [
              0.8888888888888888,
              "#fdca26"
             ],
             [
              1,
              "#f0f921"
             ]
            ],
            "type": "histogram2dcontour"
           }
          ],
          "mesh3d": [
           {
            "colorbar": {
             "outlinewidth": 0,
             "ticks": ""
            },
            "type": "mesh3d"
           }
          ],
          "parcoords": [
           {
            "line": {
             "colorbar": {
              "outlinewidth": 0,
              "ticks": ""
             }
            },
            "type": "parcoords"
           }
          ],
          "pie": [
           {
            "automargin": true,
            "type": "pie"
           }
          ],
          "scatter": [
           {
            "fillpattern": {
             "fillmode": "overlay",
             "size": 10,
             "solidity": 0.2
            },
            "type": "scatter"
           }
          ],
          "scatter3d": [
           {
            "line": {
             "colorbar": {
              "outlinewidth": 0,
              "ticks": ""
             }
            },
            "marker": {
             "colorbar": {
              "outlinewidth": 0,
              "ticks": ""
             }
            },
            "type": "scatter3d"
           }
          ],
          "scattercarpet": [
           {
            "marker": {
             "colorbar": {
              "outlinewidth": 0,
              "ticks": ""
             }
            },
            "type": "scattercarpet"
           }
          ],
          "scattergeo": [
           {
            "marker": {
             "colorbar": {
              "outlinewidth": 0,
              "ticks": ""
             }
            },
            "type": "scattergeo"
           }
          ],
          "scattergl": [
           {
            "marker": {
             "colorbar": {
              "outlinewidth": 0,
              "ticks": ""
             }
            },
            "type": "scattergl"
           }
          ],
          "scattermapbox": [
           {
            "marker": {
             "colorbar": {
              "outlinewidth": 0,
              "ticks": ""
             }
            },
            "type": "scattermapbox"
           }
          ],
          "scatterpolar": [
           {
            "marker": {
             "colorbar": {
              "outlinewidth": 0,
              "ticks": ""
             }
            },
            "type": "scatterpolar"
           }
          ],
          "scatterpolargl": [
           {
            "marker": {
             "colorbar": {
              "outlinewidth": 0,
              "ticks": ""
             }
            },
            "type": "scatterpolargl"
           }
          ],
          "scatterternary": [
           {
            "marker": {
             "colorbar": {
              "outlinewidth": 0,
              "ticks": ""
             }
            },
            "type": "scatterternary"
           }
          ],
          "surface": [
           {
            "colorbar": {
             "outlinewidth": 0,
             "ticks": ""
            },
            "colorscale": [
             [
              0,
              "#0d0887"
             ],
             [
              0.1111111111111111,
              "#46039f"
             ],
             [
              0.2222222222222222,
              "#7201a8"
             ],
             [
              0.3333333333333333,
              "#9c179e"
             ],
             [
              0.4444444444444444,
              "#bd3786"
             ],
             [
              0.5555555555555556,
              "#d8576b"
             ],
             [
              0.6666666666666666,
              "#ed7953"
             ],
             [
              0.7777777777777778,
              "#fb9f3a"
             ],
             [
              0.8888888888888888,
              "#fdca26"
             ],
             [
              1,
              "#f0f921"
             ]
            ],
            "type": "surface"
           }
          ],
          "table": [
           {
            "cells": {
             "fill": {
              "color": "#EBF0F8"
             },
             "line": {
              "color": "white"
             }
            },
            "header": {
             "fill": {
              "color": "#C8D4E3"
             },
             "line": {
              "color": "white"
             }
            },
            "type": "table"
           }
          ]
         },
         "layout": {
          "annotationdefaults": {
           "arrowcolor": "#2a3f5f",
           "arrowhead": 0,
           "arrowwidth": 1
          },
          "autotypenumbers": "strict",
          "coloraxis": {
           "colorbar": {
            "outlinewidth": 0,
            "ticks": ""
           }
          },
          "colorscale": {
           "diverging": [
            [
             0,
             "#8e0152"
            ],
            [
             0.1,
             "#c51b7d"
            ],
            [
             0.2,
             "#de77ae"
            ],
            [
             0.3,
             "#f1b6da"
            ],
            [
             0.4,
             "#fde0ef"
            ],
            [
             0.5,
             "#f7f7f7"
            ],
            [
             0.6,
             "#e6f5d0"
            ],
            [
             0.7,
             "#b8e186"
            ],
            [
             0.8,
             "#7fbc41"
            ],
            [
             0.9,
             "#4d9221"
            ],
            [
             1,
             "#276419"
            ]
           ],
           "sequential": [
            [
             0,
             "#0d0887"
            ],
            [
             0.1111111111111111,
             "#46039f"
            ],
            [
             0.2222222222222222,
             "#7201a8"
            ],
            [
             0.3333333333333333,
             "#9c179e"
            ],
            [
             0.4444444444444444,
             "#bd3786"
            ],
            [
             0.5555555555555556,
             "#d8576b"
            ],
            [
             0.6666666666666666,
             "#ed7953"
            ],
            [
             0.7777777777777778,
             "#fb9f3a"
            ],
            [
             0.8888888888888888,
             "#fdca26"
            ],
            [
             1,
             "#f0f921"
            ]
           ],
           "sequentialminus": [
            [
             0,
             "#0d0887"
            ],
            [
             0.1111111111111111,
             "#46039f"
            ],
            [
             0.2222222222222222,
             "#7201a8"
            ],
            [
             0.3333333333333333,
             "#9c179e"
            ],
            [
             0.4444444444444444,
             "#bd3786"
            ],
            [
             0.5555555555555556,
             "#d8576b"
            ],
            [
             0.6666666666666666,
             "#ed7953"
            ],
            [
             0.7777777777777778,
             "#fb9f3a"
            ],
            [
             0.8888888888888888,
             "#fdca26"
            ],
            [
             1,
             "#f0f921"
            ]
           ]
          },
          "colorway": [
           "#636efa",
           "#EF553B",
           "#00cc96",
           "#ab63fa",
           "#FFA15A",
           "#19d3f3",
           "#FF6692",
           "#B6E880",
           "#FF97FF",
           "#FECB52"
          ],
          "font": {
           "color": "#2a3f5f"
          },
          "geo": {
           "bgcolor": "white",
           "lakecolor": "white",
           "landcolor": "#E5ECF6",
           "showlakes": true,
           "showland": true,
           "subunitcolor": "white"
          },
          "hoverlabel": {
           "align": "left"
          },
          "hovermode": "closest",
          "mapbox": {
           "style": "light"
          },
          "paper_bgcolor": "white",
          "plot_bgcolor": "#E5ECF6",
          "polar": {
           "angularaxis": {
            "gridcolor": "white",
            "linecolor": "white",
            "ticks": ""
           },
           "bgcolor": "#E5ECF6",
           "radialaxis": {
            "gridcolor": "white",
            "linecolor": "white",
            "ticks": ""
           }
          },
          "scene": {
           "xaxis": {
            "backgroundcolor": "#E5ECF6",
            "gridcolor": "white",
            "gridwidth": 2,
            "linecolor": "white",
            "showbackground": true,
            "ticks": "",
            "zerolinecolor": "white"
           },
           "yaxis": {
            "backgroundcolor": "#E5ECF6",
            "gridcolor": "white",
            "gridwidth": 2,
            "linecolor": "white",
            "showbackground": true,
            "ticks": "",
            "zerolinecolor": "white"
           },
           "zaxis": {
            "backgroundcolor": "#E5ECF6",
            "gridcolor": "white",
            "gridwidth": 2,
            "linecolor": "white",
            "showbackground": true,
            "ticks": "",
            "zerolinecolor": "white"
           }
          },
          "shapedefaults": {
           "line": {
            "color": "#2a3f5f"
           }
          },
          "ternary": {
           "aaxis": {
            "gridcolor": "white",
            "linecolor": "white",
            "ticks": ""
           },
           "baxis": {
            "gridcolor": "white",
            "linecolor": "white",
            "ticks": ""
           },
           "bgcolor": "#E5ECF6",
           "caxis": {
            "gridcolor": "white",
            "linecolor": "white",
            "ticks": ""
           }
          },
          "title": {
           "x": 0.05
          },
          "xaxis": {
           "automargin": true,
           "gridcolor": "white",
           "linecolor": "white",
           "ticks": "",
           "title": {
            "standoff": 15
           },
           "zerolinecolor": "white",
           "zerolinewidth": 2
          },
          "yaxis": {
           "automargin": true,
           "gridcolor": "white",
           "linecolor": "white",
           "ticks": "",
           "title": {
            "standoff": 15
           },
           "zerolinecolor": "white",
           "zerolinewidth": 2
          }
         }
        },
        "title": {
         "text": "Experimental Semivariance plot"
        },
        "xaxis": {
         "title": {
          "text": "Distance [m]"
         }
        },
        "yaxis": {
         "scaleanchor": "x",
         "scaleratio": 1,
         "title": {
          "text": "Variance [m^2]"
         }
        }
       }
      }
     },
     "metadata": {},
     "output_type": "display_data"
    },
    {
     "data": {
      "image/png": "[encoded data removed]",
      "text/plain": [
       "<Figure size 1200x600 with 1 Axes>"
      ]
     },
     "metadata": {},
     "output_type": "display_data"
    },
    {
     "data": {
      "text/plain": [
       "(None, None)"
      ]
     },
     "execution_count": 470,
     "metadata": {},
     "output_type": "execute_result"
    }
   ],
   "source": [
    "#-- my_code_hw03.py\n",
    "#-- hw03 GEO1015.2022\n",
    "#-- [Malte Schade]\n",
    "#-- [5850282] \n",
    "\n",
    "\n",
    "# IMPORTS\n",
    "\n",
    "import numpy as np\n",
    "\n",
    "import rasterio\n",
    "from rasterio.io import MemoryFile\n",
    "from rasterio.warp import calculate_default_transform, reproject\n",
    "\n",
    "from pyinterpolate import calc_point_to_point_distance, build_theoretical_variogram, kriging, inverse_distance_weighting\n",
    "from pyinterpolate import VariogramCloud, ExperimentalVariogram, TheoreticalVariogram\n",
    "\n",
    "from sklearn.metrics import mean_squared_error, r2_score\n",
    "\n",
    "import plotly.express as px\n",
    "import plotly.graph_objects as go\n",
    "\n",
    "\n",
    "# CONSTANTS\n",
    "\n",
    "seed = 12345678                 # numpy RNG seed\n",
    "path = 'N51E007.hgt'            # SRTM dataset path (.hgt)\n",
    "dst_crs = 'EPSG:32632'          # transformed coordinate reference system\n",
    "no_data_f = -1000               # NODATA numerical value threshold\n",
    "n_gt = 10000                    # number of random ground-truth points\n",
    "n_in = 1000                     # number of random points used for interpolation\n",
    "norm_std = (10, 10, 16)         # standard deviations in all three spacial dimensions\n",
    "vc_lag = 64                     # lag number in variogram cloud / experimental variogram\n",
    "model = 'linear'                # theoretical variogram model\n",
    "nn = 4                          # kriging number of neighbors\n",
    "nr = None                       # kriging maximum range for neighbors\n",
    "power = 3                       # IDW power\n",
    "nbins = 100                     # visualization histogram bin count\n",
    "\n",
    "sill = 31000                    # sill (from experimental variogram)\n",
    "rang = 74000                    # rang (from experimental variogram)\n",
    "nugget = 400                    # nugget (from experimental variogram)\n",
    "\n",
    "\n",
    "# FUNCTIONS\n",
    "\n",
    "def reproject_dataset(src, dst_crs):\n",
    "    # Calculate transformation parameters\n",
    "    transform, width, height = calculate_default_transform(\n",
    "        src.crs, dst_crs, src.width, src.height, *src.bounds)\n",
    "    \n",
    "    kwargs = src.meta.copy()\n",
    "    kwargs.update({\n",
    "        'driver': 'GTiff',\n",
    "        'crs': dst_crs,\n",
    "        'transform': transform,\n",
    "        'width': width,\n",
    "        'height': height\n",
    "    })\n",
    "\n",
    "    with MemoryFile() as memfile:\n",
    "        with memfile.open(**kwargs) as dst:\n",
    "            reproject(\n",
    "                source=rasterio.band(src, 1),\n",
    "                destination=rasterio.band(dst, 1),\n",
    "                src_transform=src.transform,\n",
    "                src_crs=src.crs,\n",
    "                dst_transform=transform,\n",
    "                dst_crs=dst_crs\n",
    "                )\n",
    "            \n",
    "        return memfile.open()\n",
    "\n",
    "\n",
    "def add_noise(data, std_x, std_y, std_z):\n",
    "    # Generate normal noise for each dimension\n",
    "    noise_x = np.random.normal(0, std_x, data.shape[0])\n",
    "    noise_y = np.random.normal(0, std_y, data.shape[0])\n",
    "    noise_z = np.random.normal(0, std_z, data.shape[0])\n",
    "    \n",
    "    # Add noise to data\n",
    "    data[:,0] += noise_x\n",
    "    data[:,1] += noise_y\n",
    "    data[:,2] += noise_z\n",
    "    \n",
    "    return data\n",
    "\n",
    "\n",
    "def scatterplot_2d(data, title, xlabel, ylabel, zlabel):\n",
    "    # Create figure\n",
    "    fig = go.Figure()\n",
    "\n",
    "    # Add scatterplot to figure\n",
    "    fig.add_trace(go.Scatter(\n",
    "    x=data[:,0], \n",
    "    y=data[:,1], \n",
    "    mode=\"markers\", \n",
    "    marker=dict(\n",
    "    size=6,\n",
    "    color=data[:,2],\n",
    "    colorscale=\"Viridis\",\n",
    "    colorbar=dict(title=zlabel)\n",
    "    )))\n",
    "\n",
    "    # Set figure layout\n",
    "    fig.update_layout(\n",
    "    title=title,\n",
    "    xaxis_title=xlabel,\n",
    "    yaxis_title=ylabel,\n",
    "    )\n",
    "    \n",
    "    # Fix aspect ratio to 1/1\n",
    "    fig.update_yaxes(\n",
    "    scaleanchor = \"x\",\n",
    "    scaleratio = 1\n",
    "    )\n",
    "    \n",
    "    return fig\n",
    "\n",
    "\n",
    "# MAIN PIPELINE\n",
    "\n",
    "# Seed the RNG\n",
    "np.random.seed(seed)\n",
    "\n",
    "# Open raster dataset\n",
    "data = rasterio.open(path)\n",
    "\n",
    "# Project data to new CRS\n",
    "data = reproject_dataset(data, dst_crs)\n",
    "\n",
    "# Extract x/y/z coordinates\n",
    "cols, rows = np.meshgrid(np.arange(data.shape[1]), np.arange(data.shape[0]))\n",
    "xs, ys  = rasterio.transform.xy(data.transform, rows, cols)\n",
    "zs = data.read(1)\n",
    "p_data = np.reshape(np.stack([xs, ys, zs], axis=2), [xs.__len__()*xs[0].__len__(), 3])\n",
    "\n",
    "# Filter no-data values\n",
    "p_data = p_data[p_data[:,2]>no_data_f]\n",
    "\n",
    "# Select interpolation points \n",
    "p_in = p_data[np.random.choice(p_data.shape[0], n_in, replace=False)]\n",
    "\n",
    "# Select ground-truth points\n",
    "p_gt = p_data[np.random.choice(p_data.shape[0], n_gt, replace=False)]\n",
    "\n",
    "# Define interpolation array without z-coordinates\n",
    "p_new = p_gt[:,:2]\n",
    "\n",
    "# Apply normal noise to interpolation points\n",
    "p_in = add_noise(p_in, *norm_std)\n",
    "\n",
    "# Calculate point distance matrix\n",
    "d_in = calc_point_to_point_distance(p_in)\n",
    "\n",
    "# Calculate variogram cloud (Time Intensive!)\n",
    "# vc_in = VariogramCloud(input_array=p_in, step_size=np.max(d_in)/vc_lag, max_range=np.max(d_in))\n",
    "\n",
    "# Calculate experimental variogram\n",
    "ev_in = ExperimentalVariogram(input_array=p_in, step_size=np.max(d_in)/vc_lag, max_range=np.max(d_in))\n",
    "\n",
    "# fit theoretical variogram to variance data\n",
    "tv_in = TheoreticalVariogram()\n",
    "fitted = tv_in.autofit(ev_in, sill=sill, rang=rang, nugget=nugget, model_types=model)\n",
    "\n",
    "# simple kriging\n",
    "sk = kriging(p_in, tv_in, p_new, how='sk', sk_mean=p_gt[:,2].mean(), no_neighbors=nn, neighbors_range=nr)\n",
    "\n",
    "# ordinary kriging\n",
    "ok = kriging(p_in, tv_in, p_new, how='ok', no_neighbors=nn, neighbors_range=nr)\n",
    "\n",
    "# inverse distance power\n",
    "idw = np.zeros((p_new.__len__(), 3))\n",
    "idw[:,[0,1]] = p_new\n",
    "idw[:, 2] = [inverse_distance_weighting(p_in, p_n, power=power) for p_n in p_new]\n",
    "\n",
    "\n",
    "# EVALUATION\n",
    "\n",
    "print(f'N-Groundtrouth: {p_gt.__len__()}, N-Interpolated: {p_in.__len__()}')\n",
    "print(f'Interpolation method: {fitted[\"model_type\"]}')\n",
    "print(f'Sill: {sill}, Rang: {rang}, Nugget: {nugget}\\n')\n",
    "\n",
    "sk_r2 = r2_score(p_gt[:,2], sk[:,0])\n",
    "ok_r2 = r2_score(p_gt[:,2], ok[:,0])\n",
    "idw_r2 = r2_score(p_gt[:,2], idw[:,2])\n",
    "print(f'Simple Kriging NN={nn} NR={nr} R2: {sk_r2}')\n",
    "print(f'Ordinary Kriging NN={nn} NR={nr} R2: {ok_r2}')\n",
    "print(f'IDW Power {power} R2: {idw_r2}\\n')\n",
    "\n",
    "sk_rmse = mean_squared_error(p_gt[:,2], sk[:,0], squared=False)\n",
    "ok_rmse = mean_squared_error(p_gt[:,2], ok[:,0], squared=False)\n",
    "idw_rmse = mean_squared_error(p_gt[:,2], idw[:,2], squared=False)\n",
    "print(f'Simple Kriging NN={nn} NR={nr} RMSE: {sk_rmse}')\n",
    "print(f'Ordinary Kriging NN={nn} NR={nr} RMSE: {ok_rmse}')\n",
    "print(f'IDW Power {power} RMSE: {idw_rmse}')\n",
    "\n",
    "\n",
    "# VISUALIZATION\n",
    "\n",
    "fig_gt = scatterplot_2d(p_gt, \"Scatterplot ground-truth points\", \"x [m]\", \"y [m]\", \"z [m]\")\n",
    "fig_in = scatterplot_2d(p_in, \"Scatterplot interpolation points\", \"x [m]\", \"y [m]\", \"z [m]\")\n",
    "fig_ev = scatterplot_2d(ev_in.experimental_semivariance_array, \"Experimental Semivariance plot\", \"Distance [m]\", \"Variance [m^2]\", \"n [-]\")\n",
    "fig_skh = px.histogram(sk[:,0], nbins=nbins, title= 'Simple Kriging Result Histogram')\n",
    "fig_skr = scatterplot_2d(sk[:,[2,3,0]], \"Simple Kriging Result\", \"x [m]\", \"y [m]\", \"z [m]\")\n",
    "fig_ske = scatterplot_2d(sk[:,[2,3,1]], \"Simple Kriging Variance Error\", \"x [m]\", \"y [m]\", \"Variance Error [m^2]\")\n",
    "fig_okh = px.histogram(ok[:,0], nbins=nbins, title= 'Ordinary Kriging Result Histogram')\n",
    "fig_okr = scatterplot_2d(ok[:,[2,3,0]], \"Ordinary Kriging Result\", \"x [m]\", \"y [m]\", \"z [m]\")\n",
    "fig_oke = scatterplot_2d(ok[:,[2,3,1]], \"Ordinary Kriging Variance Error\", \"x [m]\", \"y [m]\", \"Variance Error [m^2]\")\n",
    "fig_idwh = px.histogram(idw[:,2], nbins=nbins, title= f'IDW Power {power} Result Histogram')\n",
    "fig_idwr = scatterplot_2d(idw, f\"IDW Power {power} Result\", \"x [m]\", \"y [m]\", \"z [m]\")\n",
    "#(fig_gt.show(), fig_in.show())\n",
    "#vc_in.plot()\n",
    "(fig_ev.show(), tv_in.plot())\n",
    "#(fig_skh.show(), fig_skr.show(), fig_ske.show())\n",
    "#(fig_okh.show(), fig_okr.show(), fig_oke.show())\n",
    "#(fig_idwh.show(), fig_idwr.show())\n"
   ]
  },
  {
   "cell_type": "code",
   "execution_count": null,
   "metadata": {},
   "outputs": [],
   "source": []
  }
 ],
 "metadata": {
  "kernelspec": {
   "display_name": "terra_arm",
   "language": "python",
   "name": "python3"
  },
  "language_info": {
   "codemirror_mode": {
    "name": "ipython",
    "version": 3
   },
   "file_extension": ".py",
   "mimetype": "text/x-python",
   "name": "python",
   "nbconvert_exporter": "python",
   "pygments_lexer": "ipython3",
   "version": "3.10.8"
  },
  "orig_nbformat": 4,
  "vscode": {
   "interpreter": {
    "hash": "cbc1db5ed2fd0a93ae9ba5698366602106ede620bd8490116068402c556a6978"
   }
  }
 },
 "nbformat": 4,
 "nbformat_minor": 2
}
